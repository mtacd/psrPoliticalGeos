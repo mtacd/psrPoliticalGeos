{
 "cells": [
  {
   "cell_type": "markdown",
   "metadata": {},
   "source": [
    "## Spatial Join Analysis - PSR Assets"
   ]
  },
  {
   "cell_type": "markdown",
   "metadata": {},
   "source": [
    "Hello! Looks like it's about time you are looking to update political districts for our PSR Assets, again.\n",
    "<br><br>\n",
    "This tool/script is here to help automate the process as much as possible.\n",
    "<br><br>\n",
    "It aims to perform spatial join between PSR Assets and each of the five political districts, and outputs the final join results (parent & extended zones) in an Excel spreadsheet with update flags/descriptions.\n",
    "<br><br>\n",
    "<span style=\"color:blue\">You do not need to edit or type any code; however, <br><br>**Please thoroughly read through ALL instructions on running anything codes, as the write-ups are intended to guide you through every single step**.</span>\n",
    "<br><br>\n",
    "For questions and assistance, please contact Tom Chen (YuQiao.Chen@mtacd.org)."
   ]
  },
  {
   "cell_type": "markdown",
   "metadata": {},
   "source": [
    "## Step 0: Data Preparation"
   ]
  },
  {
   "cell_type": "markdown",
   "metadata": {},
   "source": [
    "Although the process is automated, there are still some manual works required in the beginning, and that's getting your data ready."
   ]
  },
  {
   "cell_type": "markdown",
   "metadata": {},
   "source": [
    "### Step 0.1 Prepare Project Folder\n",
    "First, make sure you've set up your **ArcGIS Pro Project**. \n",
    "<br><br>\n",
    "It is a folder which ArcGIS Pro prompts you to create when the software is launched. The project folder is usually set up with a geodatabase(.gdb) in it which we may use as the workspace for our analysis."
   ]
  },
  {
   "cell_type": "markdown",
   "metadata": {
    "heading_collapsed": true
   },
   "source": [
    "### Step 0.2: Download Political District Data\n",
    "Use NYC Open Data to download citywide dataset:<br>\n",
    "1. City Council\n",
    "2. Community Districts <br>\n",
    "https://www.nyc.gov/site/planning/data-maps/open-data/districts-download-metadata.page\n",
    "\n",
    "Use NYS GIS Clearinghouse to download statewide dataset:\n",
    "1. Congressional Districts\n",
    "2. State Assembly\n",
    "3. State Senate <br>\n",
    "https://data.gis.ny.gov/\n",
    "<br><br>\n",
    "Afterwards, unzip the downloaded contents and store the folders in a desired location."
   ]
  },
  {
   "cell_type": "markdown",
   "metadata": {
    "heading_collapsed": true
   },
   "source": [
    "### Step 0.3 PSR Assets Data\n",
    "Get the latest PSR Assets dataset, and filter out assets with **NO LATITUDE** and **NO LONGITUDE** in Excel. \n",
    "<br><br>\n",
    "Save the Excel spreadsheet with **.xlsx** extension."
   ]
  },
  {
   "cell_type": "markdown",
   "metadata": {},
   "source": [
    "## Step 1: Importing Python Libraries"
   ]
  },
  {
   "cell_type": "markdown",
   "metadata": {},
   "source": [
    "After ensuring all preparation steps are completed above, we are ready to run the scripts.\n",
    "<br><br>\n",
    "We will begin by importing several **Python modules** to our working session. Python modules are pre-written codes/functions created for various purposes. We will import modules needed to complete our analysis.\n",
    "<br><br>\n",
    "<span style=\"color:blue\">Click the block below and then click Run</span>"
   ]
  },
  {
   "cell_type": "code",
   "execution_count": 1,
   "metadata": {
    "scrolled": true
   },
   "outputs": [
    {
     "name": "stdout",
     "output_type": "stream",
     "text": [
      "Modules successfully imported, please proceed to next step\n"
     ]
    }
   ],
   "source": [
    "# -*- coding: utf-8 -*-\n",
    "# Import necessary modules\n",
    "\n",
    "# contains ArcGIS tools for spatial analysis.\n",
    "import arcpy\n",
    "\n",
    "# to conduct data fransformation procedures\n",
    "import pandas as pd\n",
    "pd.options.mode.chained_assignment = None  # default='warn'\n",
    "\n",
    "#\n",
    "from sys import argv\n",
    "\n",
    "# \n",
    "import numpy as np\n",
    "\n",
    "# to brwoser files and folders - removed this for now\n",
    "# from tkinter import *\n",
    "# from tkinter import filedialog\n",
    "\n",
    "print(\"Modules successfully imported, please proceed to next step\")"
   ]
  },
  {
   "cell_type": "markdown",
   "metadata": {},
   "source": [
    "## Step 2: Defining Files and Folders"
   ]
  },
  {
   "cell_type": "markdown",
   "metadata": {},
   "source": [
    "The scripts will not run unless it knows where all your data are stored. Step 2 is all about telling the program the location of the data prepared from Step 0."
   ]
  },
  {
   "cell_type": "markdown",
   "metadata": {},
   "source": [
    "### Step 2.1: Browse PSR Assets Excel File that has had its lat/long updated in a previous process\n"
   ]
  },
  {
   "cell_type": "markdown",
   "metadata": {},
   "source": [
    "<span style=\"color:blue\">Click the block below and then click Run\n",
    "<br>Browse for your PSR Asset file saved from Step 0.3\n",
    "</span>"
   ]
  },
  {
   "cell_type": "code",
   "execution_count": 2,
   "metadata": {
    "scrolled": true
   },
   "outputs": [],
   "source": [
    "# Tk().withdraw()\n",
    "\n",
    "# # asking user for the Excel file with PSR Assets.\n",
    "# excel_dir = filedialog.askopenfilename()\n",
    "\n",
    "# print(f\"{excel_dir}\\nSuccess, please proceed to next step.\")\n",
    "\n",
    "excel_dir = r\"C:/Users/1292346/gisProjects/PSR/psrGeo/latLongUpdatedNoNulls.xlsx\""
   ]
  },
  {
   "cell_type": "markdown",
   "metadata": {},
   "source": [
    "### Step 2.2: Browse City Council GIS file"
   ]
  },
  {
   "cell_type": "markdown",
   "metadata": {},
   "source": [
    "<span style=\"color:blue\">Click the block below and then click Run\n",
    "<br>Browse for your City Council file saved from Step 0.2\n",
    "</span>"
   ]
  },
  {
   "cell_type": "code",
   "execution_count": 3,
   "metadata": {
    "scrolled": true
   },
   "outputs": [],
   "source": [
    "# # asking user for the file path which City Council file is in.\n",
    "# cityCouncil_dir = filedialog.askopenfilename()\n",
    "\n",
    "# print(f\"{cityCouncil_dir}\\nSuccess, please proceed to next step.\")\n",
    "\n",
    "cityCouncil_dir = r\"C:/Users/1292346/gisProjects/PSR/psrUpdatePolitical/districts/nycCouncil_Project.shp\""
   ]
  },
  {
   "cell_type": "markdown",
   "metadata": {},
   "source": [
    "### Step 2.2: Browse Community District GIS file"
   ]
  },
  {
   "cell_type": "markdown",
   "metadata": {},
   "source": [
    "<span style=\"color:blue\">Click the block below and then click Run\n",
    "<br>Browse for your Community District file saved from Step 0.2\n",
    "</span>"
   ]
  },
  {
   "cell_type": "code",
   "execution_count": 4,
   "metadata": {
    "scrolled": true
   },
   "outputs": [],
   "source": [
    "# # asking user for the file path which Community District file is in.\n",
    "# communityDist_dir = filedialog.askopenfilename()\n",
    "\n",
    "# print(f\"{communityDist_dir}\\nSuccess, please proceed to next step.\")\n",
    "\n",
    "communityDist_dir = r\"C:/Users/1292346/gisProjects/PSR/psrUpdatePolitical/districts/nycd.shp\""
   ]
  },
  {
   "cell_type": "markdown",
   "metadata": {},
   "source": [
    "### Step 2.3: Browse Congressional District GIS file"
   ]
  },
  {
   "cell_type": "markdown",
   "metadata": {},
   "source": [
    "<span style=\"color:blue\">Click the block below and then click Run\n",
    "<br>Browse for your Congressional District file saved from Step 0.2\n",
    "</span>"
   ]
  },
  {
   "cell_type": "code",
   "execution_count": 5,
   "metadata": {
    "scrolled": true
   },
   "outputs": [],
   "source": [
    "# # asking user for the file path which Congressional District file is in.\n",
    "# congressionalDist_dir = filedialog.askopenfilename()\n",
    "\n",
    "# print(f\"{congressionalDist_dir}\\nSuccess, please proceed to next step.\")\n",
    "\n",
    "congressionalDist_dir = r\"C:/Users/1292346/gisProjects/PSR/psrUpdatePolitical/districts/congressionalDistricts.shp\""
   ]
  },
  {
   "cell_type": "markdown",
   "metadata": {},
   "source": [
    "### Step 2.4: Browse State Assembly GIS file"
   ]
  },
  {
   "cell_type": "markdown",
   "metadata": {},
   "source": [
    "<span style=\"color:blue\">Click the block below and then click Run\n",
    "<br>Browse for your State Assembly file saved from Step 0.2\n",
    "</span>"
   ]
  },
  {
   "cell_type": "code",
   "execution_count": 6,
   "metadata": {
    "scrolled": true
   },
   "outputs": [],
   "source": [
    "# # asking user for the file path which State Assembly file is in.\n",
    "# stateAssembly_dir = filedialog.askopenfilename()\n",
    "\n",
    "# print(f\"{stateAssembly_dir}\\nSuccess, please proceed to next step.\")\n",
    "\n",
    "stateAssembly_dir = r\"C:/Users/1292346/gisProjects/PSR/psrUpdatePolitical/districts/NYS_Assembly_Distric_Project.shp\""
   ]
  },
  {
   "cell_type": "markdown",
   "metadata": {},
   "source": [
    "### Step 2.5: Browse State Senate GIS file"
   ]
  },
  {
   "cell_type": "markdown",
   "metadata": {},
   "source": [
    "<span style=\"color:blue\">Click the block below and then click Run\n",
    "<br>Browse for your State Senate file saved from Step 0.2\n",
    "</span>"
   ]
  },
  {
   "cell_type": "code",
   "execution_count": 7,
   "metadata": {
    "scrolled": true
   },
   "outputs": [],
   "source": [
    "# # asking user for the file path which State Senate file is in.\n",
    "# stateSenate_dir = filedialog.askopenfilename()\n",
    "\n",
    "# print(f\"{stateSenate_dir}\\nSuccess, please proceed to next step.\")\n",
    "\n",
    "stateSenate_dir = r\"C:/Users/1292346/gisProjects/PSR/psrUpdatePolitical/districts/NYS_Senate_Districts_Project.shp\""
   ]
  },
  {
   "cell_type": "markdown",
   "metadata": {},
   "source": [
    "### Step 2.5: Browse County GIS File"
   ]
  },
  {
   "cell_type": "code",
   "execution_count": 33,
   "metadata": {},
   "outputs": [],
   "source": [
    "county_dir = r\"C:\\Users\\1292346\\gisProjects\\PSR\\psrUpdatePolitical\\districts\\NYS_and_CT_counties_project.shp\""
   ]
  },
  {
   "cell_type": "markdown",
   "metadata": {},
   "source": [
    "### Step 2.6: Browse city and town file"
   ]
  },
  {
   "cell_type": "code",
   "execution_count": 11,
   "metadata": {},
   "outputs": [],
   "source": [
    "city_dir = r\"C:\\Users\\1292346\\gisProjects\\PSR\\psrUpdatePolitical\\districts\\NY_CT_cities_towns.shp\""
   ]
  },
  {
   "cell_type": "markdown",
   "metadata": {},
   "source": [
    "### Step 2.6: Select Geodatabase"
   ]
  },
  {
   "cell_type": "markdown",
   "metadata": {},
   "source": [
    "Geodatabase is needed in this analysis to store spatial analysis outputs.\n",
    "\n",
    "<span style=\"color:blue\">Click the block below and then click Run\n",
    "<br>Browse for the geodatabase file (.gdb) in the Project folder created from Step 0.1 or another desired geodatabase file, and click Select Folder\n",
    "</span>"
   ]
  },
  {
   "cell_type": "code",
   "execution_count": 12,
   "metadata": {
    "scrolled": true
   },
   "outputs": [],
   "source": [
    "# # asking user for the gdb path to act as workspace and to save outputs in\n",
    "# output_dir = filedialog.askdirectory()\n",
    "\n",
    "# print(f\"{output_dir}\\nSuccess, please proceed to next step.\")\n",
    "\n",
    "output_dir = r\"C:/Users/1292346/gisProjects/PSR/psrFinal/psrFinal.gdb\""
   ]
  },
  {
   "cell_type": "markdown",
   "metadata": {},
   "source": [
    "### Step 2.7: Select Final Output Folder"
   ]
  },
  {
   "cell_type": "markdown",
   "metadata": {},
   "source": [
    "<span style=\"color:blue\">Click the block below and then click Run\n",
    "<br>Browse for the folder to save the final Excel output and click Select Folder\n",
    "</span>"
   ]
  },
  {
   "cell_type": "code",
   "execution_count": 13,
   "metadata": {
    "scrolled": true
   },
   "outputs": [],
   "source": [
    "# # asking user for the file path which the PSR Assets excel file is in.\n",
    "# excel_output_dir = filedialog.askdirectory()\n",
    "\n",
    "# print(f\"{excel_output_dir}\\nSuccess, please proceed to next steps.\")\n",
    "\n",
    "excel_output_dir = r\"C:/Users/1292346/gisProjects/PSR/psrFinal\""
   ]
  },
  {
   "cell_type": "markdown",
   "metadata": {},
   "source": [
    "## Step 3: Spatial Analysis"
   ]
  },
  {
   "cell_type": "markdown",
   "metadata": {},
   "source": [
    "### Step 3.1: Defining Function (for Spatial Join)\n",
    "With Step 2 completed, we are ready to perform the spatial analysis.\n",
    "\n",
    "We need to pre-define the steps of our analysis in a function (block below), which will perform the following:\n",
    "1. Storing PSR Assets data from Excel into a Geodatabase Table file.\n",
    "\n",
    "\n",
    "2. Mapping PSR Assets by their recorded latitude and longitude.\n",
    "\n",
    "\n",
    "3. Performing Spatial Join between PSR Assets (points) and each political district for parent district. (This step is repeated 5 times) \n",
    "\n",
    "\n",
    "4. Creating 500ft buffer to all mapped PSR Assets.\n",
    "\n",
    "\n",
    "5. Performing Spatial Join between PSR Assets buffer (polygon) and each political district for extended districts. (This step is repeated 5 times)<br>\n",
    "\n",
    "\n",
    "<span style=\"color:blue\">Click on the block below and click Run</span><br>\n",
    "Note: You will not see any outputs, yet, as we are only defining the process to take place."
   ]
  },
  {
   "cell_type": "code",
   "execution_count": 37,
   "metadata": {
    "scrolled": false
   },
   "outputs": [
    {
     "name": "stdout",
     "output_type": "stream",
     "text": [
      "Spatial Analysis Function successfully defined. Please proceed to execute the function in next step.\n"
     ]
    }
   ],
   "source": [
    "# Model Function from Model Builder\n",
    "\n",
    "def Model(Input_Excel_File = excel_dir,\n",
    "          cityCouncil = cityCouncil_dir,\n",
    "          communityDistrict = communityDist_dir,\n",
    "          congressionalDistrict = congressionalDist_dir,\n",
    "          stateAssembly = stateAssembly_dir,\n",
    "          stateSenate = stateSenate_dir,\n",
    "          counties = county_dir,\n",
    "          cities_towns = city_dir\n",
    "          output = output_dir\n",
    "         ):  # Model\n",
    "\n",
    "    # To allow overwriting outputs change overwriteOutput option to True.\n",
    "    arcpy.env.overwriteOutput = False\n",
    "\n",
    "    arcpy.ImportToolbox(r\"C:\\Program Files\\Arcgis\\Pro\\Resources\\ArcToolbox\\toolboxes\\Conversion Tools.tbx\")\n",
    "    arcpy.ImportToolbox(r\"C:\\Program Files\\Arcgis\\Pro\\Resources\\ArcToolbox\\toolboxes\\Data Management Tools.tbx\")\n",
    "\n",
    "    # Process: Excel To Table (Excel To Table) (conversion)\n",
    "    PSR_Assets = f\"{output}/PSR_Assets\"\n",
    "    arcpy.conversion.ExcelToTable(\n",
    "        Input_Excel_File = excel_dir, \n",
    "        Output_Table = PSR_Assets, \n",
    "        Sheet = \"updatedLatLongNoNulls\", \n",
    "        field_names_row = 1, \n",
    "        cell_range = \"\"\n",
    "    )\n",
    "\n",
    "    # Process: XY Table To Point (XY Table To Point) (management)\n",
    "    PSR_Assets_XY = f\"{output}/PSR_Assets_XY\"\n",
    "    arcpy.management.XYTableToPoint(\n",
    "        in_table = PSR_Assets, \n",
    "        out_feature_class = PSR_Assets_XY, \n",
    "        x_field = \"LONGITUDE\", \n",
    "        y_field = \"LATITUDE\", \n",
    "        z_field = \"\", \n",
    "        coordinate_system = \"GEOGCS[\\\"GCS_WGS_1984\\\",DATUM[\\\"D_WGS_1984\\\",SPHEROID[\\\"WGS_1984\\\",6378137.0,298.257223563]],PRIMEM[\\\"Greenwich\\\",0.0],UNIT[\\\"Degree\\\",0.0174532925199433]];-400 -400 1000000000;-100000 10000;-100000 10000;8.98315284119521E-09;0.001;0.001;IsHighPrecision\"\n",
    "    )\n",
    "    \n",
    "    # Intersection between PSR Assets and City Council for Parent City Council Zone\n",
    "    PSR_Assets_Parent_CC = f\"{output}/PSR_Assets_Parent_CC\"\n",
    "    arcpy.analysis.SpatialJoin(\n",
    "        target_features = PSR_Assets_XY,\n",
    "        join_features = cityCouncil,\n",
    "        out_feature_class = PSR_Assets_Parent_CC,\n",
    "        join_operation = \"JOIN_ONE_TO_ONE\",\n",
    "        join_type = \"KEEP_ALL\",\n",
    "        field_mapping = f\"KEY_ASSET \\\"KEY_ASSET\\\" true true false 4 Long 0 0,First,#,{PSR_Assets_XY},KEY_ASSET,-1,-1; DIST_CITY_COUNCIL \\\" DIST_CITY_COUNCIL \\\" true true false 50 Text 0 0,First,#,{PSR_Assets_XY}, DIST_CITY_COUNCIL,-1,-1; DIST_COMMUNITY \\\" DIST_COMMUNITY \\\" true true false 50 Text 0 0,First,#,{PSR_Assets_XY}, DIST_COMMUNITY,-1,-1; DIST_CONGRESSIONAL \\\" DIST_CONGRESSIONAL \\\" true true false 50 Text 0 0,First,#,{PSR_Assets_XY}, DIST_CONGRESSIONAL,-1,-1; DIST_STATE_ASSEMBLY \\\" DIST_STATE_ASSEMBLY \\\" true true false 50 Text 0 0,First,#,{PSR_Assets_XY}, DIST_STATE_ASSEMBLY,-1,-1; DIST_STATE_SENATE \\\" DIST_STATE_SENATE \\\" true true false 50 Text 0 0,First,#,{PSR_Assets_XY}, DIST_STATE_SENATE,-1,-1; City_Council_Parent_Dist_ID \\\"City_Council_Parent_Dist_ID \\\" true true false 10 Long 0 0,First,#,{cityCouncil}, CounDist,-1,-1\",\n",
    "        search_radius = \"\", \n",
    "        distance_field_name = \"\"\n",
    "    )\n",
    "    \n",
    "    # Intersection between PSR Assets and Community District for Parent Community District Zone\n",
    "    PSR_Assets_Parent_CC_CM = f\"{output}/PSR_Assets_Parent_CC_CM\"\n",
    "    arcpy.analysis.SpatialJoin(\n",
    "        target_features = PSR_Assets_Parent_CC,\n",
    "        join_features = communityDistrict,\n",
    "        out_feature_class = PSR_Assets_Parent_CC_CM,\n",
    "        join_operation = \"JOIN_ONE_TO_ONE\",\n",
    "        join_type = \"KEEP_ALL\",\n",
    "        field_mapping = f\"KEY_ASSET \\\"KEY_ASSET\\\" true true false 4 Long 0 0,First,#,{PSR_Assets_Parent_CC},KEY_ASSET,-1,-1; DIST_CITY_COUNCIL \\\" DIST_CITY_COUNCIL \\\" true true false 50 Text 0 0,First,#,{PSR_Assets_Parent_CC}, DIST_CITY_COUNCIL,-1,-1; DIST_COMMUNITY \\\" DIST_COMMUNITY \\\" true true false 50 Text 0 0,First,#,{PSR_Assets_Parent_CC}, DIST_COMMUNITY,-1,-1; DIST_CONGRESSIONAL \\\" DIST_CONGRESSIONAL \\\" true true false 50 Text 0 0,First,#,{PSR_Assets_Parent_CC}, DIST_CONGRESSIONAL,-1,-1; DIST_STATE_ASSEMBLY \\\" DIST_STATE_ASSEMBLY \\\" true true false 50 Text 0 0,First,#,{PSR_Assets_Parent_CC}, DIST_STATE_ASSEMBLY,-1,-1; DIST_STATE_SENATE \\\" DIST_STATE_SENATE \\\" true true false 50 Text 0 0,First,#,{PSR_Assets_Parent_CC}, DIST_STATE_SENATE,-1,-1;City_Council_Parent_Dist_ID \\\"City_Council_Parent_Dist_ID \\\" true true false 10 Long 0 0,First,#,{PSR_Assets_Parent_CC}, City_Council_Parent_Dist_ID,-1,-1; Community_District_Parent_Dist_ID \\\"Community_District_Parent_Dist_ID \\\" true true false 10 Long 0 0,First,#,{communityDistrict}, BoroCD,-1,-1\",\n",
    "        search_radius = \"\", \n",
    "        distance_field_name = \"\"\n",
    "    )\n",
    "    \n",
    "    \n",
    "    # Intersection between PSR Assets and Congressional District for Parent Congressional District Zone\n",
    "    PSR_Assets_Parent_CC_CM_CO = f\"{output}/PSR_Assets_Parent_CC_CM_CO\"\n",
    "    arcpy.analysis.SpatialJoin(\n",
    "        target_features = PSR_Assets_Parent_CC_CM,\n",
    "        join_features = congressionalDistrict,\n",
    "        out_feature_class = PSR_Assets_Parent_CC_CM_CO,\n",
    "        join_operation = \"JOIN_ONE_TO_ONE\",\n",
    "        join_type = \"KEEP_ALL\",\n",
    "        field_mapping = f\"KEY_ASSET \\\"KEY_ASSET\\\" true true false 4 Long 0 0,First,#,{PSR_Assets_Parent_CC_CM},KEY_ASSET,-1,-1; DIST_CITY_COUNCIL \\\" DIST_CITY_COUNCIL \\\" true true false 50 Text 0 0,First,#,{PSR_Assets_Parent_CC_CM}, DIST_CITY_COUNCIL,-1,-1; DIST_COMMUNITY \\\" DIST_COMMUNITY \\\" true true false 50 Text 0 0,First,#,{PSR_Assets_Parent_CC_CM}, DIST_COMMUNITY,-1,-1; DIST_CONGRESSIONAL \\\" DIST_CONGRESSIONAL \\\" true true false 50 Text 0 0,First,#,{PSR_Assets_Parent_CC_CM}, DIST_CONGRESSIONAL,-1,-1; DIST_STATE_ASSEMBLY \\\" DIST_STATE_ASSEMBLY \\\" true true false 50 Text 0 0,First,#,{PSR_Assets_Parent_CC_CM}, DIST_STATE_ASSEMBLY,-1,-1; DIST_STATE_SENATE \\\" DIST_STATE_SENATE \\\" true true false 50 Text 0 0,First,#,{PSR_Assets_Parent_CC_CM}, DIST_STATE_SENATE,-1,-1; City_Council_Parent_Dist_ID \\\"City_Council_Parent_Dist_ID \\\" true true false 10 Long 0 0,First,#, {PSR_Assets_Parent_CC_CM}, City_Council_Parent_Dist_ID,-1,-1; Community_District_Parent_Dist_ID \\\"Community_District_Parent_Dist_ID \\\" true true false 10 Long 0 0,First,#,{PSR_Assets_Parent_CC_CM}, Community_District_Parent_Dist_ID,-1,-1; Congressional_District_Parent_Dist_ID \\\"Congressional_District_Parent_Dist_ID \\\" true true false 10 Long 0 0,First,#,{congressionalDistrict}, CongDist,-1,-1\",\n",
    "        search_radius = \"\", \n",
    "        distance_field_name = \"\"\n",
    "    )\n",
    "    \n",
    "    \n",
    "    # Intersection between PSR Assets and State Assembly District for Parent State Assembly District Zone\n",
    "    PSR_Assets_Parent_CC_CM_CO_SA = f\"{output}/PSR_Assets_Parent_CC_CM_CO_SA\"\n",
    "    arcpy.analysis.SpatialJoin(\n",
    "        target_features = PSR_Assets_Parent_CC_CM_CO,\n",
    "        join_features = stateAssembly,\n",
    "        out_feature_class = PSR_Assets_Parent_CC_CM_CO_SA,\n",
    "        join_operation = \"JOIN_ONE_TO_ONE\",\n",
    "        join_type = \"KEEP_ALL\",\n",
    "        field_mapping = f\"KEY_ASSET \\\"KEY_ASSET\\\" true true false 4 Long 0 0,First,#,{PSR_Assets_Parent_CC_CM_CO},KEY_ASSET,-1,-1; DIST_CITY_COUNCIL \\\" DIST_CITY_COUNCIL \\\" true true false 50 Text 0 0,First,#,{PSR_Assets_Parent_CC_CM_CO}, DIST_CITY_COUNCIL,-1,-1; DIST_COMMUNITY \\\" DIST_COMMUNITY \\\" true true false 50 Text 0 0,First,#,{PSR_Assets_Parent_CC_CM_CO}, DIST_COMMUNITY,-1,-1; DIST_CONGRESSIONAL \\\" DIST_CONGRESSIONAL \\\" true true false 50 Text 0 0,First,#,{PSR_Assets_Parent_CC_CM_CO}, DIST_CONGRESSIONAL,-1,-1; DIST_STATE_ASSEMBLY \\\" DIST_STATE_ASSEMBLY \\\" true true false 50 Text 0 0,First,#,{PSR_Assets_Parent_CC_CM_CO}, DIST_STATE_ASSEMBLY,-1,-1; DIST_STATE_SENATE \\\" DIST_STATE_SENATE \\\" true true false 50 Text 0 0,First,#,{PSR_Assets_Parent_CC_CM_CO}, DIST_STATE_SENATE,-1,-1; City_Council_Parent_Dist_ID \\\"City_Council_Parent_Dist_ID \\\" true true false 10 Long 0 0,First,#, {PSR_Assets_Parent_CC_CM_CO}, City_Council_Parent_Dist_ID,-1,-1; Community_District_Parent_Dist_ID \\\"Community_District_Parent_Dist_ID \\\" true true false 10 Long 0 0,First,#,{PSR_Assets_Parent_CC_CM_CO}, Community_District_Parent_Dist_ID,-1,-1; Congressional_District_Parent_Dist_ID \\\"Congressional_District_Parent_Dist_ID \\\" true true false 10 Long 0 0,First,#,{PSR_Assets_Parent_CC_CM_CO}, Congressional_District_Parent_Dist_ID,-1,-1; State_Assembly_Parent_Dist_ID \\\"State_Assembly_Parent_Dist_ID \\\" true true false 10 Long 0 0,First,#,{stateAssembly}, AssemDist,-1,-1\",\n",
    "        search_radius = \"\", \n",
    "        distance_field_name = \"\"\n",
    "    )\n",
    "    \n",
    "    \n",
    "    # Intersection between PSR Assets and State Senate District for Parent State Senate District Zone\n",
    "    PSR_Assets_Parent_CC_CM_CO_SA_SS = f\"{output}/PSR_Assets_Parent_CC_CM_CO_SA_SS\"\n",
    "    arcpy.analysis.SpatialJoin(\n",
    "        target_features = PSR_Assets_Parent_CC_CM_CO_SA,\n",
    "        join_features = stateSenate,\n",
    "        out_feature_class = PSR_Assets_Parent_CC_CM_CO_SA_SS,\n",
    "        join_operation = \"JOIN_ONE_TO_ONE\",\n",
    "        join_type = \"KEEP_ALL\",\n",
    "        field_mapping = f\"KEY_ASSET \\\"KEY_ASSET\\\" true true false 4 Long 0 0,First,#,{PSR_Assets_Parent_CC_CM_CO_SA},KEY_ASSET,-1,-1; DIST_CITY_COUNCIL \\\" DIST_CITY_COUNCIL \\\" true true false 50 Text 0 0,First,#,{PSR_Assets_Parent_CC_CM_CO_SA}, DIST_CITY_COUNCIL,-1,-1; DIST_COMMUNITY \\\" DIST_COMMUNITY \\\" true true false 50 Text 0 0,First,#,{PSR_Assets_Parent_CC_CM_CO_SA}, DIST_COMMUNITY,-1,-1; DIST_CONGRESSIONAL \\\" DIST_CONGRESSIONAL \\\" true true false 50 Text 0 0,First,#,{PSR_Assets_Parent_CC_CM_CO_SA}, DIST_CONGRESSIONAL,-1,-1; DIST_STATE_ASSEMBLY \\\" DIST_STATE_ASSEMBLY \\\" true true false 50 Text 0 0,First,#,{PSR_Assets_Parent_CC_CM_CO_SA}, DIST_STATE_ASSEMBLY,-1,-1; DIST_STATE_SENATE \\\" DIST_STATE_SENATE \\\" true true false 50 Text 0 0,First,#,{PSR_Assets_Parent_CC_CM_CO_SA}, DIST_STATE_SENATE,-1,-1; CityCouncil_Parent_Dist_ID \\\"CityCouncil_Parent_Dist_ID \\\" true true false 10 Long 0 0,First,#, {PSR_Assets_Parent_CC_CM_CO_SA}, City_Council_Parent_Dist_ID,-1,-1; CommunityDistrict_Parent_Dist_ID \\\"CommunityDistrict_Parent_Dist_ID \\\" true true false 10 Long 0 0,First,#,{PSR_Assets_Parent_CC_CM_CO_SA}, Community_District_Parent_Dist_ID,-1,-1; CongressionalDistrict_Parent_Dist_ID \\\"CongressionalDistrict_Parent_Dist_ID \\\" true true false 10 Long 0 0,First,#,{PSR_Assets_Parent_CC_CM_CO_SA}, Congressional_District_Parent_Dist_ID,-1,-1; StateAssembly_Parent_Dist_ID \\\"StateAssembly_Parent_Dist_ID \\\" true true false 10 Long 0 0,First,#,{PSR_Assets_Parent_CC_CM_CO_SA}, State_Assembly_Parent_Dist_ID,-1,-1; StateSenate_Parent_Dist_ID \\\"StateSenate_Parent_Dist_ID \\\" true true false 10 Long 0 0,First,#,{stateSenate}, StSenDist,-1,-1\",\n",
    "        search_radius = \"\", \n",
    "        distance_field_name = \"\"\n",
    "    )\n",
    "\n",
    "    # Intersection between PSR Assets and Counties shapefile\n",
    "    PSR_Assets_Parent_CC_CM_CO_SA_SS_NYcounties = f\"{output}/PSR_Assets_Parent_CC_CM_CO_SA_SS_NYcounties\"\n",
    "    arcpy.analysis.SpatialJoin(\n",
    "        target_features = PSR_Assets_Parent_CC_CM_CO_SA_SS,\n",
    "        join_features = counties,\n",
    "        out_feature_class = PSR_Assets_Parent_CC_CM_CO_SA_SS_NYcounties,\n",
    "        join_operation =\"JOIN_ONE_TO_ONE\",\n",
    "        join_type =\"KEEP_ALL\",\n",
    "        field_mapping = f\"KEY_ASSET \\\" KEY_ASSET \\\" true true false 4 Long 0 0,First,#,{PSR_Assets_Parent_CC_CM_CO_SA_SS},KEY_ASSET,-1,-1; DIST_CITY_COUNCIL \\\" DIST_CITY_COUNCIL \\\" true true false 50 Text 0 0,First,#,{PSR_Assets_Parent_CC_CM_CO_SA_SS},DIST_CITY_COUNCIL,0,49;DIST_COMMUNITY \\\" DIST_COMMUNITY \\\" true true false 50 Text 0 0,First,#,{PSR_Assets_Parent_CC_CM_CO_SA_SS},DIST_COMMUNITY,0,49;DIST_CONGRESSIONAL \\\" DIST_CONGRESSIONAL \\\" true true false 50 Text 0 0,First,#,{PSR_Assets_Parent_CC_CM_CO_SA_SS},DIST_CONGRESSIONAL,0,49;DIST_STATE_ASSEMBLY \\\" DIST_STATE_ASSEMBLY \\\" true true false 50 Text 0 0,First,#,{PSR_Assets_Parent_CC_CM_CO_SA_SS},DIST_STATE_ASSEMBLY,0,49;DIST_STATE_SENATE \\\" DIST_STATE_SENATE \\\" true true false 50 Text 0 0,First,#,{PSR_Assets_Parent_CC_CM_CO_SA_SS},DIST_STATE_SENATE,0,49;CityCouncil_Parent_Dist_ID \\\"CityCouncil_Parent_Dist_ID \\\" true true false 4 Long 0 0,First,#,{PSR_Assets_Parent_CC_CM_CO_SA_SS},CityCouncil_Parent_Dist_ID,-1,-1;CommunityDistrict_Parent_Dist_ID \\\"CommunityDistrict_Parent_Dist_ID \\\" true true false 4 Long 0 0,First,#,{PSR_Assets_Parent_CC_CM_CO_SA_SS},CommunityDistrict_Parent_Dist_ID,-1,-1;CongressionalDistrict_Parent_Dist_ID \\\"CongressionalDistrict_Parent_Dist_ID \\\" true true false 4 Long 0 0,First,#,{PSR_Assets_Parent_CC_CM_CO_SA_SS},CongressionalDistrict_Parent_Dist_ID,-1,-1;StateAssembly_Parent_Dist_ID \\\"StateAssembly_Parent_Dist_ID \\\" true true false 4 Long 0 0,First,#,{PSR_Assets_Parent_CC_CM_CO_SA_SS},StateAssembly_Parent_Dist_ID,-1,-1;StateSenate_Parent_Dist_ID \\\"StateSenate_Parent_Dist_ID \\\" true true false 4 Long 0 0,First,#,{PSR_Assets_Parent_CC_CM_CO_SA_SS},StateSenate_Parent_Dist_ID,-1,-1; county_name \\\"county_name\\\" true true false 40 Text 0 0,First,#, {counties}, county_name, -1,-1\",\n",
    "        search_radius = \"\",\n",
    "        distance_field_name = \"\"\n",
    "    )\n",
    "    \n",
    "    # Intersection between PSR Assets and cities and towns shapefile\n",
    "    arcpy.analysis.SpatialJoin(\n",
    "        target_features = PSR_Assets_Parent_CC_CM_CO_SA_SS_NYcounties,\n",
    "        join_features = NY_CT_cities_towns,\n",
    "        out_feature_class = PSR_Assets_Parent_CC_CM_CO_SA_SS_NYcounties_cities,\n",
    "        join_operation = \"JOIN_ONE_TO_ONE\",\n",
    "        join_type = \"KEEP_ALL\",\n",
    "        field_mapping = f\"KEY_ASSET \\\" KEY_ASSET \\\" true true false 4 Long 0 0,First,#,{PSR_Assets_Parent_CC_CM_CO_SA_SS_NYcounties},KEY_ASSET,-1,-1; DIST_CITY_COUNCIL \\\" DIST_CITY_COUNCIL \\\" true true false 50 Text 0 0,First,#,{PSR_Assets_Parent_CC_CM_CO_SA_SS_NYcounties},DIST_CITY_COUNCIL,0,49;DIST_COMMUNITY \\\" DIST_COMMUNITY \\\" true true false 50 Text 0 0,First,#,{PSR_Assets_Parent_CC_CM_CO_SA_SS_NYcounties},DIST_COMMUNITY,0,49;DIST_CONGRESSIONAL \\\" DIST_CONGRESSIONAL \\\" true true false 50 Text 0 0,First,#,{PSR_Assets_Parent_CC_CM_CO_SA_SS_NYcounties},DIST_CONGRESSIONAL,0,49;DIST_STATE_ASSEMBLY \\\" DIST_STATE_ASSEMBLY \\\" true true false 50 Text 0 0,First,#,{PSR_Assets_Parent_CC_CM_CO_SA_SS_NYcounties},DIST_STATE_ASSEMBLY,0,49;DIST_STATE_SENATE \\\" DIST_STATE_SENATE \\\" true true false 50 Text 0 0,First,#,{PSR_Assets_Parent_CC_CM_CO_SA_SS_NYcounties},DIST_STATE_SENATE,0,49;CityCouncil_Parent_Dist_ID \\\"CityCouncil_Parent_Dist_ID \\\" true true false 4 Long 0 0,First,#,{PSR_Assets_Parent_CC_CM_CO_SA_SS_NYcounties},CityCouncil_Parent_Dist_ID,-1,-1;CommunityDistrict_Parent_Dist_ID \\\"CommunityDistrict_Parent_Dist_ID \\\" true true false 4 Long 0 0,First,#,{PSR_Assets_Parent_CC_CM_CO_SA_SS_NYcounties},CommunityDistrict_Parent_Dist_ID,-1,-1;CongressionalDistrict_Parent_Dist_ID \\\"CongressionalDistrict_Parent_Dist_ID \\\" true true false 4 Long 0 0,First,#,{PSR_Assets_Parent_CC_CM_CO_SA_SS_NYcounties},CongressionalDistrict_Parent_Dist_ID,-1,-1;StateAssembly_Parent_Dist_ID \\\"StateAssembly_Parent_Dist_ID \\\" true true false 4 Long 0 0,First,#,{PSR_Assets_Parent_CC_CM_CO_SA_SS_NYcounties},StateAssembly_Parent_Dist_ID,-1,-1;StateSenate_Parent_Dist_ID \\\"StateSenate_Parent_Dist_ID \\\" true true false 4 Long 0 0,First,#,{PSR_Assets_Parent_CC_CM_CO_SA_SS_NYcounties},StateSenate_Parent_Dist_ID,-1,-1; county_name \\\"county_name\\\" true true false 40 Text 0 0,First,#, {counties}, NAME, -1,-1\",\n",
    "        match_option = \"INTERSECT\",\n",
    "        search_radius = \"\",\n",
    "        distance_field_name = \"\"\n",
    "    )\n",
    "    \n",
    "\n",
    "    # Process: Pairwise Buffer (Pairwise Buffer) (analysis)\n",
    "    PSR_Assets_500ftBuffer = f\"{output}/PSR_Assets_500ftBuffer\"\n",
    "    arcpy.analysis.PairwiseBuffer(\n",
    "        in_features = PSR_Assets_Parent_CC_CM_CO_SA_SS, \n",
    "        out_feature_class = PSR_Assets_500ftBuffer, \n",
    "        buffer_distance_or_field = \"500 Feet\", \n",
    "        dissolve_option = \"NONE\", \n",
    "        dissolve_field = [], \n",
    "        method = \"PLANAR\", \n",
    "        max_deviation = \"0 DecimalDegrees\"\n",
    "    )\n",
    "\n",
    "    # Process: Spatial Join for City Council (Spatial Join) (analysis)\n",
    "    PSR_Assets_CityCouncil = f\"{output}/PSR_Assets_CityCouncil\"\n",
    "    arcpy.analysis.SpatialJoin(\n",
    "        target_features = PSR_Assets_500ftBuffer, \n",
    "        join_features = cityCouncil, \n",
    "        out_feature_class = PSR_Assets_CityCouncil, \n",
    "        join_operation = \"JOIN_ONE_TO_MANY\", \n",
    "        join_type = \"KEEP_COMMON\", \n",
    "        field_mapping = f\"KEY_ASSET \\\"KEY_ASSET\\\" true true false 4 Long 0 0,First,#,{PSR_Assets_500ftBuffer},KEY_ASSET,-1,-1; Dist_ID \\\"Dist_ID \\\" true true false 10 Long 0 0,First,#,{cityCouncil}, CounDist,-1,-1\",\n",
    "        match_option = \"INTERSECT\", \n",
    "        search_radius = \"\", \n",
    "        distance_field_name = \"\"\n",
    "    )\n",
    "\n",
    "    # Process: Spatial Join for Community District (Spatial Join) (analysis)\n",
    "    PSR_Assets_CommunityDistrict = f\"{output}/PSR_Assets_CommunityDistrict\"\n",
    "    arcpy.analysis.SpatialJoin(\n",
    "        target_features=PSR_Assets_500ftBuffer, \n",
    "        join_features=communityDistrict, \n",
    "        out_feature_class=PSR_Assets_CommunityDistrict, \n",
    "        join_operation=\"JOIN_ONE_TO_MANY\", \n",
    "        join_type=\"KEEP_COMMON\", \n",
    "        field_mapping = f\"KEY_ASSET \\\"KEY_ASSET\\\" true true false 4 Long 0 0,First,#,{PSR_Assets_500ftBuffer},KEY_ASSET,-1,-1; Dist_ID \\\"Dist_ID \\\" true true false 10 Long 0 0,First,#,{communityDistrict}, BoroCD,-1,-1\",\n",
    "        match_option=\"INTERSECT\", \n",
    "        search_radius=\"\", \n",
    "        distance_field_name=\"\"\n",
    "    )\n",
    "    \n",
    "    # Process: Spatial Join for Congressional District (Spatial Join) (analysis)\n",
    "    PSR_Assets_CongressionalDistrict = f\"{output}/PSR_Assets_CongressionalDistrict\"\n",
    "    arcpy.analysis.SpatialJoin(\n",
    "        target_features=PSR_Assets_500ftBuffer, \n",
    "        join_features=congressionalDistrict, \n",
    "        out_feature_class=PSR_Assets_CongressionalDistrict, \n",
    "        join_operation=\"JOIN_ONE_TO_MANY\", \n",
    "        join_type=\"KEEP_COMMON\", \n",
    "        field_mapping = f\"KEY_ASSET \\\"KEY_ASSET\\\" true true false 4 Long 0 0,First,#,{PSR_Assets_500ftBuffer},KEY_ASSET,-1,-1; Dist_ID \\\"Dist_ID \\\" true true false 10 Long 0 0,First,#,{congressionalDistrict}, CongDist,-1,-1\",\n",
    "        match_option=\"INTERSECT\", \n",
    "        search_radius = \"\", \n",
    "        distance_field_name = \"\"\n",
    "    )\n",
    "    \n",
    "    # Process: Spatial Join for State Assembly (Spatial Join) (analysis)\n",
    "    PSR_Assets_StateAssembly = f\"{output}/PSR_Assets_StateAssembly\"\n",
    "    arcpy.analysis.SpatialJoin(\n",
    "        target_features = PSR_Assets_500ftBuffer, \n",
    "        join_features = stateAssembly, \n",
    "        out_feature_class=PSR_Assets_StateAssembly, \n",
    "        join_operation = \"JOIN_ONE_TO_MANY\", \n",
    "        join_type = \"KEEP_COMMON\", \n",
    "        field_mapping = f\"KEY_ASSET \\\"KEY_ASSET\\\" true true false 4 Long 0 0,First,#,{PSR_Assets_500ftBuffer},KEY_ASSET,-1,-1; Dist_ID \\\"Dist_ID \\\" true true false 10 Long 0 0,First,#,{stateAssembly}, AssemDist,-1,-1\",\n",
    "        match_option = \"INTERSECT\", \n",
    "        search_radius = \"\", \n",
    "        distance_field_name = \"\"\n",
    "    )\n",
    "    \n",
    "    # Process: Spatial Join for State Senate (Spatial Join) (analysis)\n",
    "    PSR_Assets_StateSenate = f\"{output}/PSR_Assets_StateSenate\"\n",
    "    arcpy.analysis.SpatialJoin(\n",
    "        target_features = PSR_Assets_500ftBuffer, \n",
    "        join_features = stateSenate, \n",
    "        out_feature_class = PSR_Assets_StateSenate, \n",
    "        join_operation = \"JOIN_ONE_TO_MANY\", \n",
    "        join_type = \"KEEP_COMMON\", \n",
    "        field_mapping = f\"KEY_ASSET \\\"KEY_ASSET\\\" true true false 4 Long 0 0,First,#,{PSR_Assets_500ftBuffer},KEY_ASSET,-1,-1; Dist_ID \\\"Dist_ID \\\" true true false 10 Long 0 0,First,#,{stateSenate}, StSenDist,-1,-1\",\n",
    "        match_option = \"INTERSECT\", \n",
    "        search_radius = \"\", \n",
    "        distance_field_name = \"\"\n",
    "    )\n",
    "    \n",
    "print(\"Spatial Analysis Function successfully defined. Please proceed to execute the function in next step.\")\n"
   ]
  },
  {
   "cell_type": "markdown",
   "metadata": {},
   "source": [
    "### Step 3.2: Execute Function (for Spatial Join)\n",
    "We will execute the function defined in the following block.\n",
    "\n",
    "<span style=\"color:blue\">Close all Excel file before running, <br>\n",
    "    If you are re-running the spatial analysis, DELETE your previous output in the geodatabse.<br><br>\n",
    "    Click on the block below and click Run to execute the function for our spatial join process.</span>"
   ]
  },
  {
   "cell_type": "code",
   "execution_count": 38,
   "metadata": {
    "scrolled": true
   },
   "outputs": [
    {
     "name": "stdout",
     "output_type": "stream",
     "text": [
      "Spatial Join completed, please check the output results and proceed to next step.\n"
     ]
    }
   ],
   "source": [
    "if __name__ == '__main__':\n",
    "    # Global Environment settings\n",
    "    with arcpy.EnvManager(scratchWorkspace = fr\"{output_dir}\", \n",
    "                          workspace = fr\"{output_dir}\"):\n",
    "        Model(*argv[1:])\n",
    "    \n",
    "    print(f\"Spatial Join completed, please check the output results and proceed to next step.\")"
   ]
  },
  {
   "cell_type": "markdown",
   "metadata": {},
   "source": [
    "## Step 4: Data Transformation"
   ]
  },
  {
   "cell_type": "markdown",
   "metadata": {},
   "source": [
    "Although we've successfully performed spatial join in the previous step, we aren't quite finished. <br>\n",
    "The results are separated in five files (one for each borough), and joined districts are individual rows, instead of a comma separated list like how they are in PSR. <br>\n",
    "<br>\n",
    "We need further data transformation to produce our intended output:\n",
    "\n",
    "<table>\n",
    "    <caption>Before (in GIS feature class output)</caption>\n",
    "    <tr>\n",
    "        <th>Asset Key</th>\n",
    "        <th>City Council ID from Spatial Join</th>\n",
    "    </tr>\n",
    "    <tr>\n",
    "        <td>ABC</td>\n",
    "        <td>1</td>\n",
    "    </tr>\n",
    "        <tr>\n",
    "        <td>ABC</td>\n",
    "        <td>3</td>\n",
    "    </tr>\n",
    "    <tr>\n",
    "        <td>DEF</td>\n",
    "        <td>7</td>\n",
    "    </tr>\n",
    "    <tr>\n",
    "        <td>DEF</td>\n",
    "        <td>9</td>\n",
    "    </tr>\n",
    "    <tr>\n",
    "        <td>DEF</td>\n",
    "        <td>10</td>\n",
    "    </tr> \n",
    "</table>\n",
    "\n",
    "\n",
    "\n",
    "<table>\n",
    "    <caption>After (concatenated and joined to original PSR Asset in Excel)</caption>\n",
    "    <tr>\n",
    "        <th>Asset Key</th>\n",
    "        <th>City Council ID from Spatial Join</th>\n",
    "    </tr>\n",
    "    <tr>\n",
    "        <td>ABC</td>\n",
    "        <td>1,3</td>\n",
    "    </tr>\n",
    "        <tr>\n",
    "        <td>DEF</td>\n",
    "        <td>7,9,10</td>\n",
    "    </tr>\n",
    "</table>\n",
    "\n",
    "<br>\n",
    "Step 4 follows this process:<br><br>\n",
    "1. Load PSR Assets data, and all 5 result files from previous step into Pandas Dataframe for the next 4 analyzes steps.<br>\n",
    "2. Concatenate district IDs with the same Key Asset into a comma separated list.<br>\n",
    "3. Join the comma separated list of district IDs back to original PSR Assets, by matching Key Assets.<br>\n",
    "4. Flag differences between district IDs in PSR and new districts from spatial join results, and an overall flag to indicate if any change occurred to an asset's district assignments.<br>\n",
    "5. Save final table as an Excel file."
   ]
  },
  {
   "cell_type": "markdown",
   "metadata": {},
   "source": [
    "### Step 4.1: Defining Function (for sorting District IDs & checking differences) (1)"
   ]
  },
  {
   "cell_type": "markdown",
   "metadata": {},
   "source": [
    "Similarly, like the last step, we need to define functions for our work flow, first.<br>\n",
    "The first function aims to sort the district IDs in numerical order when it's called.<br>\n",
    "The second function aims to lists out differences of district IDs between PSR and the spatial join analysis result.\n",
    "\n",
    "<span style=\"color:blue\">Click the block below and then click Run</span>"
   ]
  },
  {
   "cell_type": "code",
   "execution_count": 26,
   "metadata": {
    "scrolled": true
   },
   "outputs": [
    {
     "name": "stdout",
     "output_type": "stream",
     "text": [
      "Sorting string and function successfully defined, Please proceed to the next step.\n"
     ]
    }
   ],
   "source": [
    "# creating a function to sort the concatenated strings\n",
    "def sort_dist_str(dist_str):\n",
    "    \n",
    "    # assigning comma to a variable\n",
    "    delim = ','    \n",
    "    \n",
    "    # turning the input into a list, and then sorting it, and then converting it back to comma separated text string.\n",
    "    return delim.join([str(x) for x in sorted([int(x) for x in dist_str.split(delim)])])\n",
    "\n",
    "\n",
    "# creating a function that lists district IDs that only exist in PSR or analysis result field.\n",
    "def check_diff(psr, result):\n",
    "    delim = ','\n",
    "    psr_np = np.array([psr.split(delim)])\n",
    "    result_np = np.array([result.split(delim)])\n",
    "    diff_np = np.setxor1d(psr_np, result_np)\n",
    "    diff = delim.join(diff_np)\n",
    "    return(diff)\n",
    "\n",
    "print(\"Sorting string and function successfully defined, Please proceed to the next step.\")"
   ]
  },
  {
   "cell_type": "markdown",
   "metadata": {},
   "source": [
    "### Step 4.2: Defining Function (for data transformation) (2)"
   ]
  },
  {
   "cell_type": "markdown",
   "metadata": {},
   "source": [
    "Define the function which encompasses the 5 steps mentioned above.\n",
    "\n",
    "<span style=\"color:blue\">Click the block below and then click Run</span>"
   ]
  },
  {
   "cell_type": "code",
   "execution_count": 27,
   "metadata": {
    "scrolled": true
   },
   "outputs": [
    {
     "name": "stdout",
     "output_type": "stream",
     "text": [
      "Data Transformation function successfully defined, Please proceed to execute the function in next step.\n"
     ]
    }
   ],
   "source": [
    "# defining function to combine individual rows of spatial join intersect results from the previous into a concatenated list of string separated by comma (same as PSR).\n",
    "# afterwards, convert the string into array and compare for differences.\n",
    "\n",
    "def transform_rows(assets_table = f\"{output_dir}/PSR_Assets_Parent_CC_CM_CO_SA_SS\",\n",
    "                   cityCouncil_table = f\"{output_dir}/PSR_Assets_CityCouncil\",\n",
    "                   communityDist_table = f\"{output_dir}/PSR_Assets_CommunityDistrict\",\n",
    "                   congressional_table = f\"{output_dir}/PSR_Assets_CongressionalDistrict\",\n",
    "                   stateAssembly_table = f\"{output_dir}/PSR_Assets_StateAssembly\",\n",
    "                   stateSenate_table = f\"{output_dir}/PSR_Assets_StateSenate\",\n",
    "                   excel_output = excel_output_dir\n",
    "                  ):\n",
    "    \n",
    "    # read the original assets list in to Pandas Dataframe\n",
    "    assets_columns = [f.name for f in arcpy.ListFields(assets_table) if f.type != \"Geometry\"]\n",
    "    assets = pd.DataFrame(data = arcpy.da.SearchCursor(assets_table, assets_columns), columns = assets_columns)\n",
    "    \n",
    "    # drop all other columns and keep only columns of Key Asset and City Council District\n",
    "    assets = assets[['KEY_ASSET' \n",
    "                     ,'DIST_CITY_COUNCIL', 'CityCouncil_Parent_Dist_ID'\n",
    "                     , 'DIST_COMMUNITY', 'CommunityDistrict_Parent_Dist_ID'\n",
    "                     , 'DIST_CONGRESSIONAL', 'CongressionalDistrict_Parent_Dist_ID'\n",
    "                     , 'DIST_STATE_ASSEMBLY', 'StateAssembly_Parent_Dist_ID'\n",
    "                     , 'DIST_STATE_SENATE', 'StateSenate_Parent_Dist_ID']]\n",
    "    \n",
    "    # change data type of KEY_ASSET column to string.\n",
    "    assets['KEY_ASSET'] = assets['KEY_ASSET'].astype(str)\n",
    "    \n",
    "    # initiating a column to flag overall changes for an asset\n",
    "    assets['overall_flag'] = \"NO UPDATE\"\n",
    "    \n",
    "    \n",
    "    # convert the individual district IDs, in string, into a concatenated list (comma separated) to each asset ID in a for loop which iterates through the 5 spatial join output feature class from previous step.\n",
    "    for i in [[cityCouncil_table, 'DIST_CITY_COUNCIL'], [communityDist_table, 'DIST_COMMUNITY'], [congressional_table, 'DIST_CONGRESSIONAL'], [stateAssembly_table, 'DIST_STATE_ASSEMBLY'], [stateSenate_table, 'DIST_STATE_SENATE']]:\n",
    "        \n",
    "        # get the name of current type of district\n",
    "        i_name = i[0].split('gdb/PSR_Assets_', 1)[-1]\n",
    "        \n",
    "        # place the table from feature class into pandas Dataframe.\n",
    "        i_columns = [f.name for f in arcpy.ListFields(i[0]) if f.type != \"Geometry\"]\n",
    "        i_df = pd.DataFrame(data = arcpy.da.SearchCursor(i[0], i_columns), columns = i_columns)\n",
    "        \n",
    "        # change data type of the district ID to INT first to get rid of the decimals and then convert back to string\n",
    "        i_df['Dist_ID'] = i_df['Dist_ID'].astype(int).astype(str)\n",
    "        \n",
    "        # creating a new column which generates a comma separated list of all district IDs associated to the individual record of asset key.\n",
    "        i_df[f'{i_name}_Dist_ID'] = i_df.groupby('KEY_ASSET')['Dist_ID'].transform(lambda x : ','.join(x))\n",
    "        \n",
    "        # removes all other columns except for Key asset and duplicated rows.\n",
    "        i_df = i_df[['KEY_ASSET', f'{i_name}_Dist_ID']].drop_duplicates()\n",
    "        \n",
    "        # convert the key asset column from spatial join result to a string data type\n",
    "        i_df['KEY_ASSET'] = i_df['KEY_ASSET'].astype(str)\n",
    "        \n",
    "        # running through each row and sorting the comma separated list.\n",
    "        for a in i_df.index:\n",
    "            i_df[f'{i_name}_Dist_ID'][a] = sort_dist_str(i_df[f'{i_name}_Dist_ID'][a])\n",
    "        \n",
    "        # use Merge function to join the asset DF and district DF\n",
    "        assets = assets.merge(i_df, how = 'outer', left_on = \"KEY_ASSET\", right_on = \"KEY_ASSET\" )\n",
    "        \n",
    "        # creating a new flag column for comparison result\n",
    "        assets[f'{i_name}_flag'] = \"\"\n",
    "        \n",
    "        # creating a new column to save the difference \n",
    "        assets[f'{i_name}_diff'] = \"\"\n",
    "        \n",
    "        #creating a new column for extended districts\n",
    "        assets[f'{i_name}_extended'] = \"\"\n",
    "        \n",
    "        # for loop to compare PSR districts, assign flag, label the differences.\n",
    "        for a in assets.index:\n",
    "            \n",
    "            # if PSR districts and result are the same, assign \"NO UPDATE\" to the district flag.\n",
    "            if assets[i[1]][a] == assets[f'{i_name}_Dist_ID'][a]:\n",
    "                assets[f'{i_name}_flag'][a] = \"NO UPDATE\"\n",
    "            \n",
    "            # if both PSR district and result are null, label \"NO UPDATE\" to the flag.\n",
    "            elif pd.isnull(assets[i[1]][a]) and pd.isnull(assets[f'{i_name}_Dist_ID'][a]):\n",
    "                assets[f'{i_name}_flag'][a] = \"NO UPDATE\"\n",
    "            \n",
    "            # if PSR district is null, and result is not, assign \"UPDATED (with districts added). Record the differences between both columns. And mark the overall_flag to \"UPDATED\"\n",
    "            elif pd.isnull(assets[i[1]][a]) and pd.isnull(assets[f'{i_name}_Dist_ID'][a]) == False:\n",
    "                assets[f'{i_name}_flag'][a] = \"UPDATED (with districts added)\"\n",
    "                assets[f'{i_name}_diff'][a] = assets[f'{i_name}_Dist_ID'][a]\n",
    "                assets['overall_flag'][a] = \"UPDATED\"\n",
    "            \n",
    "            # if PSR district is not null, and result, assign \"REMOVED\". Record the differences between both columns. And mark the overall_flag to \"UPDATED\"\n",
    "            elif pd.isnull(assets[i[1]][a]) == False and pd.isnull(assets[f'{i_name}_Dist_ID'][a]):\n",
    "                assets[f'{i_name}_flag'][a] = \"REMOVED\"\n",
    "                assets[f'{i_name}_diff'][a] = check_diff(str(assets[i[1]][a]), str(assets[f'{i_name}_Dist_ID'][a]))\n",
    "                assets['overall_flag'][a] = \"UPDATED\"\n",
    "            \n",
    "            # if the number of districts in PSR is more than the number of districts from analysis results, assign \"UPDATED (with districts removed)\", record the differences between both columns. And mark the overall_flag to \"UPDATED\"\n",
    "            elif str(assets[i[1]][a]).count(',') > str(assets[f'{i_name}_Dist_ID'][a]).count(','):\n",
    "                assets[f'{i_name}_flag'][a] = \"UPDATED (with districts removed)\"\n",
    "                assets[f'{i_name}_diff'][a] = check_diff(str(assets[i[1]][a]), str(assets[f'{i_name}_Dist_ID'][a]))\n",
    "                assets['overall_flag'][a] = \"UPDATED\"\n",
    "            \n",
    "            # if the number of districts in PSR is less than the number of districts from analysis results, assign \"UPDATED (with districts added)\", record the differences between both columns. And mark the overall_flag to \"UPDATED\"\n",
    "            elif str(assets[f'{i_name}_Dist_ID'][a]).count(',') > str(assets[i[1]][a]).count(','):\n",
    "                assets[f'{i_name}_flag'][a] = \"UPDATED (with districts added)\"\n",
    "                assets[f'{i_name}_diff'][a] = check_diff(str(assets[i[1]][a]), str(assets[f'{i_name}_Dist_ID'][a]))\n",
    "                assets['overall_flag'][a] = \"UPDATED\"\n",
    "            \n",
    "            #\n",
    "            else:\n",
    "                assets[f'{i_name}_flag'][a] = \"UPDATED\"\n",
    "                assets[f'{i_name}_diff'][a] = check_diff(str(assets[i[1]][a]), str(assets[f'{i_name}_Dist_ID'][a]))\n",
    "                assets['overall_flag'][a] = \"UPDATED\"\n",
    "    \n",
    "    # rearrange the assets dataframe columns\n",
    "    assets = assets[['KEY_ASSET',\n",
    "                     'DIST_CITY_COUNCIL', 'CityCouncil_Parent_Dist_ID', 'CityCouncil_Dist_ID', 'CityCouncil_flag', 'CityCouncil_diff', 'CityCouncil_extended',\n",
    "                     'DIST_COMMUNITY', 'CommunityDistrict_Parent_Dist_ID', 'CommunityDistrict_Dist_ID', 'CommunityDistrict_flag', 'CommunityDistrict_diff', 'CommunityDistrict_extended',\n",
    "                     'DIST_CONGRESSIONAL', 'CongressionalDistrict_Parent_Dist_ID', 'CongressionalDistrict_Dist_ID', 'CongressionalDistrict_flag', 'CongressionalDistrict_diff', 'CongressionalDistrict_extended',\n",
    "                     'DIST_STATE_ASSEMBLY', 'StateAssembly_Parent_Dist_ID', 'StateAssembly_Dist_ID', 'StateAssembly_flag', 'StateAssembly_diff', 'StateAssembly_extended',\n",
    "                     'DIST_STATE_SENATE', 'StateSenate_Parent_Dist_ID', 'StateSenate_Dist_ID', 'StateSenate_flag', 'StateSenate_diff', 'StateSenate_extended',\n",
    "                     'overall_flag']]\n",
    "    \n",
    "    # export to excel\n",
    "    assets.to_excel(fr\"{excel_output}/PSR_Assets_District_Join_Result.xlsx\")\n",
    "    return assets.head()\n",
    "\n",
    "print(\"Data Transformation function successfully defined, Please proceed to execute the function in next step.\")"
   ]
  },
  {
   "cell_type": "markdown",
   "metadata": {},
   "source": [
    "### Step 4.3: Execute Function (for Data Transformation)"
   ]
  },
  {
   "cell_type": "markdown",
   "metadata": {},
   "source": [
    "We will execute the function defined in the following block. Output is an **Excel File of PSR Assets with district IDs from each district type assigned**\n",
    "\n",
    "<span style=\"color:blue\">Click on the block below and click Run to execute the function.</span><br>\n",
    "Note: Final Excel file output can overwrite exist ones with same name. If you are overwriting existing file, you need to closed the file, first. "
   ]
  },
  {
   "cell_type": "code",
   "execution_count": 28,
   "metadata": {
    "scrolled": false
   },
   "outputs": [
    {
     "name": "stdout",
     "output_type": "stream",
     "text": [
      "You've completed all steps! Check your results.\n"
     ]
    }
   ],
   "source": [
    "if __name__ == '__main__':\n",
    "    transform_rows()\n",
    "\n",
    "print(\"You've completed all steps! Check your results.\")"
   ]
  },
  {
   "cell_type": "markdown",
   "metadata": {},
   "source": [
    "Output Table Fields:<br>\n",
    "\n",
    "<table>\n",
    "    <tr>\n",
    "        <th>Field</th>\n",
    "        <th>Description</th>\n",
    "    </tr>\n",
    "    <tr>\n",
    "        <td>KEY_ASSET</td>\n",
    "        <td></td>\n",
    "    </tr>\n",
    "        <tr>\n",
    "        <td>DIST_CITY_COUNCIL</td>\n",
    "        <td>City Council Districts from PSR</td>\n",
    "    </tr>\n",
    "    <tr>\n",
    "        <td>DIST_COMMUNITY</td>\n",
    "        <td>Community Districts from PSR</td>\n",
    "    </tr>\n",
    "    <tr>\n",
    "        <td>DIST_CONGRESSIONAL</td>\n",
    "        <td>Congressional Districts from PSR</td>\n",
    "    </tr>\n",
    "    <tr>\n",
    "        <td>DIST_STATE_ASSEMBLY</td>\n",
    "        <td>State Assembly Districts from PSR</td>\n",
    "    </tr>\n",
    "    <tr>\n",
    "        <td>DIST_STATE_SENATE</td>\n",
    "        <td>State Senate Districts from PSR</td>\n",
    "    </tr>\n",
    "    <tr>\n",
    "        <td>CityCouncil_Dist_ID\t</td>\n",
    "        <td>New City Council Districts assigned from spatial join</td>\n",
    "    </tr>\n",
    "    <tr>\n",
    "        <td>CityCouncil_flag</td>\n",
    "        <td>Comparison between PSR and spatial join for City Council Districts</td>\n",
    "    </tr>\n",
    "    <tr>\n",
    "        <td>CommunityDistrict_Dist_ID\t</td>\n",
    "        <td>New Community Districts assigned from spatial join</td>\n",
    "    </tr>\n",
    "    <tr>\n",
    "        <td>CommunityDistrict_flag</td>\n",
    "        <td>Comparison between PSR and spatial join for Community District</td>\n",
    "    </tr>\n",
    "    <tr>\n",
    "        <td>CogressionalDistrict_Dist_ID</td>\n",
    "        <td>New Congressional Districts assigned from spatial join</td>\n",
    "    </tr>\n",
    "    <tr>\n",
    "        <td>CongressionalDistrict_flag</td>\n",
    "        <td>Comparison between PSR and spatial join for Congressional District</td>\n",
    "    </tr>\n",
    "    <tr>\n",
    "        <td>StateAssembly_Dist_ID\t</td>\n",
    "        <td>New State Assembly Districts assigned from spatial join</td>\n",
    "    </tr>\n",
    "    <tr>\n",
    "        <td>StateAssembly_flag</td>\n",
    "        <td>Comparison between PSR and spatial join for State Assembly District</td>\n",
    "    </tr>\n",
    "    <tr>\n",
    "        <td>StateSenate_Dist_ID\t</td>\n",
    "        <td>New State Senate Districts assigned from spatial join</td>\n",
    "    </tr>\n",
    "    <tr>\n",
    "        <td>StateSenate_flag</td>\n",
    "        <td>Comparison between PSR and spatial join for State Senate District</td>\n",
    "    </tr>\n",
    "\n",
    "\n",
    "</table>\n"
   ]
  },
  {
   "cell_type": "code",
   "execution_count": null,
   "metadata": {
    "scrolled": true
   },
   "outputs": [],
   "source": []
  }
 ],
 "metadata": {
  "kernelspec": {
   "display_name": "ArcGISPro",
   "language": "Python",
   "name": "python3"
  },
  "language_info": {
   "file_extension": ".py",
   "name": "python",
   "version": "3.9.18"
  }
 },
 "nbformat": 4,
 "nbformat_minor": 2
}
